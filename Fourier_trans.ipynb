{
 "cells": [
  {
   "cell_type": "code",
   "execution_count": null,
   "metadata": {},
   "outputs": [],
   "source": [
    "import matplotlib.pyplot as plt\n",
    "import numpy as np\n",
    "\n",
    "plt.style.use('seaborn-poster')\n",
    "%matplotlib inline"
   ]
  },
  {
   "cell_type": "code",
   "execution_count": null,
   "metadata": {},
   "outputs": [],
   "source": [
    "def FFT(x):\n",
    "    \"\"\"\n",
    "    A recursive implementation of \n",
    "    the 1D Cooley-Tukey FFT, the \n",
    "    input should have a length of \n",
    "    power of 2. \n",
    "    \"\"\"\n",
    "    N = len(x)\n",
    "    \n",
    "    if N == 1:\n",
    "        return x\n",
    "    else:\n",
    "        X_even = FFT(x[::2])\n",
    "        X_odd = FFT(x[1::2])\n",
    "        factor = np.exp(-2j*np.pi*np.arange(N)/ N)\n",
    "        \n",
    "        X = np.concatenate(\\\n",
    "            [X_even+factor[:int(N/2)]*X_odd,\n",
    "             X_even+factor[int(N/2):]*X_odd])\n",
    "        return X"
   ]
  },
  {
   "cell_type": "code",
   "execution_count": null,
   "metadata": {},
   "outputs": [],
   "source": [
    "# sampling rate\n",
    "sr = 128\n",
    "# sampling interval\n",
    "ts = 1.0/sr\n",
    "t = np.arange(0,1,ts)\n",
    "\n",
    "freq = 1\n",
    "x = 3*np.sin(2*np.pi*freq*t)\n",
    "\n",
    "freq = 4\n",
    "x += np.sin(2*np.pi*freq*t)\n",
    "\n",
    "freq = 7   \n",
    "x += 0.5* np.sin(2*np.pi*freq*t)\n",
    "\n",
    "plt.figure(figsize = (8, 6))\n",
    "plt.plot(t, x, 'r')\n",
    "plt.ylabel('Amplitude')\n",
    "\n",
    "plt.show()"
   ]
  },
  {
   "cell_type": "code",
   "execution_count": null,
   "metadata": {},
   "outputs": [
    {
     "ename": "",
     "evalue": "",
     "output_type": "error",
     "traceback": [
      "\u001b[1;31mRunning cells with 'Python 3.8.2 32-bit' requires ipykernel package.\n",
      "Run the following command to install 'ipykernel' into the Python environment. \n",
      "Command: 'C:/Users/HP/AppData/Local/Programs/Python/Python38-32/python.exe -m pip install ipykernel -U --user --force-reinstall'"
     ]
    }
   ],
   "source": [
    "X=FFT(x)\n",
    "\n",
    "# calculate the frequency\n",
    "N = len(X)\n",
    "n = np.arange(N)\n",
    "T = N/sr\n",
    "freq = n/T \n",
    "\n",
    "plt.figure(figsize = (12, 6))\n",
    "plt.subplot(121)\n",
    "plt.stem(freq, abs(X), 'b', \\\n",
    "         markerfmt=\" \", basefmt=\"-b\")\n",
    "plt.xlabel('Freq (Hz)')\n",
    "plt.ylabel('FFT Amplitude |X(freq)|')\n",
    "\n",
    "# Get the one-sided specturm\n",
    "n_oneside = N//2\n",
    "# get the one side frequency\n",
    "f_oneside = freq[:n_oneside]\n",
    "\n",
    "# normalize the amplitude\n",
    "X_oneside =X[:n_oneside]/n_oneside\n",
    "\n",
    "plt.subplot(122)\n",
    "plt.stem(f_oneside, abs(X_oneside), 'b', \\\n",
    "         markerfmt=\" \", basefmt=\"-b\")\n",
    "plt.xlabel('Freq (Hz)')\n",
    "plt.ylabel('Normalized FFT Amplitude |X(freq)|')\n",
    "plt.tight_layout()\n",
    "plt.show()"
   ]
  },
  {
   "cell_type": "code",
   "execution_count": null,
   "metadata": {},
   "outputs": [],
   "source": [
    "def gen_sig(sr):\n",
    "    '''\n",
    "    function to generate\n",
    "    a simple 1D signal with\n",
    "    different sampling rate\n",
    "    '''\n",
    "    ts = 1.0/sr\n",
    "    t = np.arange(0,1,ts)\n",
    "\n",
    "    freq = 1.\n",
    "    x = 3*np.sin(2*np.pi*freq*t)\n",
    "    return x"
   ]
  },
  {
   "cell_type": "code",
   "execution_count": null,
   "metadata": {},
   "outputs": [],
   "source": [
    "# sampling rate =2048\n",
    "sr = 2048\n",
    "%timeit FFT(gen_sig(sr))"
   ]
  }
 ],
 "metadata": {
  "interpreter": {
   "hash": "4af90f45c7792a747df031fcfb3e75fbadd5ecde1f96328d33556550aaa66aac"
  },
  "kernelspec": {
   "display_name": "Python 3.8.2 32-bit",
   "language": "python",
   "name": "python3"
  },
  "language_info": {
   "name": "python",
   "version": "3.8.2"
  },
  "orig_nbformat": 4
 },
 "nbformat": 4,
 "nbformat_minor": 2
}
